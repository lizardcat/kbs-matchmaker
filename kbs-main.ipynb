{
 "cells": [
  {
   "cell_type": "markdown",
   "metadata": {},
   "source": [
    "### Original code from class"
   ]
  },
  {
   "cell_type": "code",
   "execution_count": null,
   "metadata": {
    "jupyter": {
     "is_executing": true
    }
   },
   "outputs": [],
   "source": [
    "\"\"\"\n",
    "Knowledge-Based Matchmaking System: The system will match user profiles based on weighted \n",
    "compatibility scores across multiple attributes.\n",
    "The KBS maintains profiles and user-specific rules to determine matches.\n",
    "\"\"\"\n",
    "\n",
    "class KnowledgeBase:\n",
    "    \"\"\"\n",
    "    Stores and manages user profiles with unique identifiers.\n",
    "    Acts as the knowledge repository for the matchmaking system.\n",
    "    \"\"\"\n",
    "\n",
    "    def __init__(self):\n",
    "        self.profiles = {}  # Dictionary to store profiles (profile_id: profile_data)\n",
    "        self.next_id = 1  # Auto-incrementing ID counter\n",
    "\n",
    "    def add_profile(self, profile_data):\n",
    "        \"\"\"\n",
    "        Adds a new profile to the knowledge base with automatic ID assignment.\n",
    "        :param profile_data: Dictionary containing profile attributes.\n",
    "        :return: Assigned profile ID.\n",
    "        \"\"\"\n",
    "        profile_id = self.next_id\n",
    "        self.profiles[profile_id] = {'id': profile_id, **profile_data}  # Add profile data with ID\n",
    "        self.next_id += 1\n",
    "        return profile_id\n",
    "\n",
    "    def get_profile(self, profile_id):\n",
    "        \"\"\"\n",
    "        Retrieves a profile by ID.\n",
    "        \"\"\"\n",
    "        return self.profiles.get(profile_id)\n",
    "\n",
    "    def get_all_profiles(self):\n",
    "        \"\"\"\n",
    "        Retrieves all profiles for matchmaking.\n",
    "        \"\"\"\n",
    "        return list(self.profiles.values())\n",
    "\n",
    "\n",
    "class Matchmaker:\n",
    "    \"\"\"\n",
    "    Implements matchmaking logic using compatibility rules and weights.\n",
    "    Leverages the knowledge base to find optimal matches for a given profile.\n",
    "    \"\"\"\n",
    "\n",
    "    def __init__(self, knowledge_base, weights=None, max_age_diff=20):\n",
    "        \"\"\"\n",
    "        :param knowledge_base: KnowledgeBase instance.\n",
    "        :param weights: Dictionary containing attribute weights for matchmaking (sum to 1).\n",
    "        :param max_age_diff: Maximum age difference allowed between profiles.\n",
    "        \"\"\"\n",
    "        self.knowledge_base = knowledge_base\n",
    "        self.weights = weights or {'age': 0.3, 'interests': 0.5, 'location': 0.2}  # Default weights\n",
    "        self.max_age_diff = max_age_diff  # Maximum age difference allowed\n",
    "\n",
    "    def calculate_compatibility(self, profile_a, profile_b):\n",
    "        \"\"\"\n",
    "        Computes weighted compatibility scores between two profiles.\n",
    "        Implements domain-specific matching rules:\n",
    "        - Age: Normalized inverse age gap.\n",
    "        - Interests: Jaccard similarity of interests.\n",
    "        - Location: Exact match check.\n",
    "        \"\"\"\n",
    "\n",
    "        # Age compatibility (Normalized inverse difference)\n",
    "        age_diff = abs(profile_a['age'] - profile_b['age'])  # Absolute age difference\n",
    "        age_score = max(0, 1 - (age_diff / self.max_age_diff)) * self.weights['age']  # Normalized inverse difference\n",
    "\n",
    "        # Interest compatibility (Jaccard similarity)\n",
    "        interests_a = set(profile_a['interests'])\n",
    "        interests_b = set(profile_b['interests'])\n",
    "        intersection = len(interests_a & interests_b)  # Common interests\n",
    "        union = len(interests_a | interests_b)  # All interests\n",
    "        jaccard_score = (intersection / union) * self.weights['interests'] if union > 0 else 0  # Jaccard similarity\n",
    "\n",
    "        # Location compatibility\n",
    "        location_score = self.weights['location'] if profile_a['location'] == profile_b['location'] else 0\n",
    "\n",
    "        return age_score + jaccard_score + location_score\n",
    "\n",
    "    def find_matches(self, user_id, top_n=5):\n",
    "        \"\"\"\n",
    "        Finds the top N matches for a given user based on compatibility scores.\n",
    "        :param user_id: Profile ID of the user to find matches for.\n",
    "        :param top_n: Number of top matches to return.\n",
    "        :return: List of (profile_id, compatibility_score) tuples.\n",
    "        \"\"\"\n",
    "        target_profile = self.knowledge_base.get_profile(user_id)\n",
    "        if not target_profile:\n",
    "            return []\n",
    "\n",
    "        matches = []\n",
    "        for profile in self.knowledge_base.get_all_profiles():\n",
    "            if profile['id'] == user_id:\n",
    "                continue  # Skip the same profile\n",
    "\n",
    "            score = self.calculate_compatibility(target_profile, profile)\n",
    "            matches.append((profile['id'], round(score, 2)))\n",
    "\n",
    "        # Sort matches by score and return top N\n",
    "        matches.sort(key=lambda x: x[1], reverse=True)\n",
    "        return matches[:top_n]\n",
    "\n",
    "\n",
    "if __name__ == \"__main__\":\n",
    "    # Initialize the Knowledge Base\n",
    "    kb = KnowledgeBase()\n",
    "\n",
    "    # Populate with sample profiles\n",
    "    profiles = [\n",
    "        {'age': 25, 'interests': ['music', 'sports'], 'location': 'New York'},\n",
    "        {'age': 28, 'interests': ['music', 'travel'], 'location': 'Los Angeles'},\n",
    "        {'age': 35, 'interests': ['sports', 'travel'], 'location': 'New York'},\n",
    "        {'age': 40, 'interests': ['music', 'sports'], 'location': 'Chicago'},\n",
    "    ]\n",
    "\n",
    "    for p in profiles:\n",
    "        kb.add_profile(p)\n",
    "\n",
    "    # Initialize the Matchmaker\n",
    "    matchmaker = Matchmaker(\n",
    "        knowledge_base=kb,\n",
    "        weights={'age': 0.25, 'interests': 0.6, 'location': 0.15},\n",
    "        max_age_diff=25\n",
    "    )\n",
    "\n",
    "    # Find matches for the first profile\n",
    "    print(\"Top Matches for Profile 1:\")\n",
    "    for match in matchmaker.find_matches(1, top_n=3):\n",
    "        print(f\"Profile {match[0]} with Compatibility Score: {match[1]}\")\n"
   ]
  },
  {
   "cell_type": "markdown",
   "metadata": {},
   "source": [
    "### Updated code to turn it into a dating matchmaker KBS"
   ]
  },
  {
   "cell_type": "code",
   "execution_count": null,
   "metadata": {},
   "outputs": [
    {
     "name": "stdout",
     "output_type": "stream",
     "text": [
      "Top Matches for Profile 1:\n",
      "Profile 4 with Compatibility Score: 0.72\n",
      "Profile 2 with Compatibility Score: 0.53\n"
     ]
    }
   ],
   "source": [
    "import random\n",
    "\n",
    "class KnowledgeBase:\n",
    "    \"\"\"\n",
    "    Stores and manages user profiles with unique identifiers.\n",
    "    Acts as the knowledge repository for the matchmaking system.\n",
    "    \"\"\"\n",
    "\n",
    "    def __init__(self):\n",
    "        self.profiles = {}  # Dictionary to store profiles (profile_id: profile_data)\n",
    "        self.next_id = 1  # Auto-incrementing ID counter\n",
    "\n",
    "    def add_profile(self, profile_data):\n",
    "        \"\"\"\n",
    "        Adds a new profile to the knowledge base with automatic ID assignment.\n",
    "        :param profile_data: Dictionary containing profile attributes.\n",
    "        :return: Assigned profile ID.\n",
    "        \"\"\"\n",
    "        profile_id = self.next_id\n",
    "        self.profiles[profile_id] = {'id': profile_id, **profile_data}\n",
    "        self.next_id += 1\n",
    "        return profile_id\n",
    "\n",
    "    def get_profile(self, profile_id):\n",
    "        \"\"\" Retrieves a profile by ID. \"\"\"\n",
    "        return self.profiles.get(profile_id)\n",
    "\n",
    "    def get_all_profiles(self):\n",
    "        \"\"\" Retrieves all profiles for matchmaking. \"\"\"\n",
    "        return list(self.profiles.values())\n",
    "\n",
    "\n",
    "class Matchmaker:\n",
    "    \"\"\"\n",
    "    Implements Tinder-like matchmaking using compatibility rules and weighted attributes.\n",
    "    \"\"\"\n",
    "\n",
    "    def __init__(self, knowledge_base, weights=None, max_age_diff=10):\n",
    "        \"\"\"\n",
    "        :param knowledge_base: KnowledgeBase instance.\n",
    "        :param weights: Dictionary containing attribute weights for matchmaking (sum to 1).\n",
    "        :param max_age_diff: Maximum age difference allowed between profiles.\n",
    "        \"\"\"\n",
    "        self.knowledge_base = knowledge_base\n",
    "        self.weights = weights or {\n",
    "            'age': 0.2, 'interests': 0.3, 'location': 0.15,\n",
    "            'education': 0.1, 'occupation': 0.1, 'lifestyle': 0.15\n",
    "        }\n",
    "        self.max_age_diff = max_age_diff\n",
    "\n",
    "    def calculate_compatibility(self, profile_a, profile_b):\n",
    "        \"\"\"\n",
    "        Computes weighted compatibility scores between two profiles.\n",
    "        \"\"\"\n",
    "\n",
    "        # Check Gender Preference\n",
    "        if profile_a['preferred_gender'] not in [profile_b['gender'], \"Any\"]:\n",
    "            return 0  # No match if gender preference doesn't align\n",
    "\n",
    "        if profile_b['preferred_gender'] not in [profile_a['gender'], \"Any\"]:\n",
    "            return 0\n",
    "\n",
    "        # Age Compatibility (Normalized inverse difference)\n",
    "        age_diff = abs(profile_a['age'] - profile_b['age'])\n",
    "        age_score = max(0, 1 - (age_diff / self.max_age_diff)) * self.weights['age']\n",
    "\n",
    "        # Interest Compatibility (Jaccard similarity)\n",
    "        interests_a = set(profile_a['interests'])\n",
    "        interests_b = set(profile_b['interests'])\n",
    "        intersection = len(interests_a & interests_b)\n",
    "        union = len(interests_a | interests_b)\n",
    "        jaccard_score = (intersection / union) * self.weights['interests'] if union > 0 else 0\n",
    "\n",
    "        # Location Compatibility\n",
    "        location_score = self.weights['location'] if profile_a['location'] == profile_b['location'] else 0\n",
    "\n",
    "        # Education Compatibility\n",
    "        education_score = self.weights['education'] if profile_a['education'] == profile_b['education'] else 0\n",
    "\n",
    "        # Occupation Compatibility\n",
    "        occupation_score = self.weights['occupation'] if profile_a['occupation'] == profile_b['occupation'] else 0\n",
    "\n",
    "        # Lifestyle Compatibility (Exact Match)\n",
    "        lifestyle_score = self.weights['lifestyle'] if profile_a['lifestyle'] == profile_b['lifestyle'] else 0\n",
    "\n",
    "        # Final Weighted Score\n",
    "        return age_score + jaccard_score + location_score + education_score + occupation_score + lifestyle_score\n",
    "\n",
    "    def find_matches(self, user_id, top_n=5):\n",
    "        \"\"\"\n",
    "        Finds the top N matches for a given user based on compatibility scores.\n",
    "        \"\"\"\n",
    "        target_profile = self.knowledge_base.get_profile(user_id)\n",
    "        if not target_profile:\n",
    "            return []\n",
    "\n",
    "        matches = []\n",
    "        for profile in self.knowledge_base.get_all_profiles():\n",
    "            if profile['id'] == user_id:\n",
    "                continue  # Skip self-matching\n",
    "\n",
    "            score = self.calculate_compatibility(target_profile, profile)\n",
    "            if score > 0:  # Only include valid matches\n",
    "                matches.append((profile['id'], round(score, 2)))\n",
    "\n",
    "        # Sort matches by score and return top N\n",
    "        matches.sort(key=lambda x: x[1], reverse=True)\n",
    "        return matches[:top_n]\n",
    "\n",
    "\n",
    "if __name__ == \"__main__\":\n",
    "    # Initialize the Knowledge Base\n",
    "    kb = KnowledgeBase()\n",
    "\n",
    "    # Populate with sample profiles\n",
    "    sample_profiles = [\n",
    "        {'age': 25, 'gender': 'Male', 'preferred_gender': 'Female', 'location': 'New York',\n",
    "         'interests': ['music', 'sports'], 'education': 'Bachelor', 'occupation': 'Engineer',\n",
    "         'relationship_goals': 'Long-term', 'lifestyle': 'Active'},\n",
    "        \n",
    "        {'age': 28, 'gender': 'Female', 'preferred_gender': 'Male', 'location': 'Los Angeles',\n",
    "         'interests': ['music', 'travel'], 'education': 'Master', 'occupation': 'Designer',\n",
    "         'relationship_goals': 'Casual', 'lifestyle': 'Active'},\n",
    "\n",
    "        {'age': 32, 'gender': 'Male', 'preferred_gender': 'Female', 'location': 'New York',\n",
    "         'interests': ['sports', 'travel'], 'education': 'PhD', 'occupation': 'Professor',\n",
    "         'relationship_goals': 'Marriage', 'lifestyle': 'Non-Smoker'},\n",
    "\n",
    "        {'age': 27, 'gender': 'Female', 'preferred_gender': 'Male', 'location': 'Chicago',\n",
    "         'interests': ['music', 'sports'], 'education': 'Bachelor', 'occupation': 'Teacher',\n",
    "         'relationship_goals': 'Long-term', 'lifestyle': 'Smoker'},\n",
    "    ]\n",
    "\n",
    "    for p in sample_profiles:\n",
    "        kb.add_profile(p)\n",
    "\n",
    "    # Initialize the Matchmaker\n",
    "    matchmaker = Matchmaker(\n",
    "        knowledge_base=kb,\n",
    "        weights={'age': 0.2, 'interests': 0.3, 'location': 0.15, 'education': 0.1, 'occupation': 0.1, 'lifestyle': 0.15},\n",
    "        max_age_diff=10\n",
    "    )\n",
    "\n",
    "    # Find matches for the first profile\n",
    "    print(\"Top Matches for Profile 1:\")\n",
    "    for match in matchmaker.find_matches(1, top_n=3):\n",
    "        print(f\"Profile {match[0]} with Compatibility Score: {match[1]}\")\n"
   ]
  },
  {
   "cell_type": "markdown",
   "metadata": {},
   "source": [
    "### New version with UI for taking inputs"
   ]
  },
  {
   "cell_type": "code",
   "execution_count": null,
   "metadata": {},
   "outputs": [
    {
     "data": {
      "application/vnd.jupyter.widget-view+json": {
       "model_id": "92183c22f50a4299bb473c6107df7fc8",
       "version_major": 2,
       "version_minor": 0
      },
      "text/plain": [
       "IntSlider(value=25, description='Age', max=60, min=18)"
      ]
     },
     "metadata": {},
     "output_type": "display_data"
    },
    {
     "data": {
      "application/vnd.jupyter.widget-view+json": {
       "model_id": "43fa978c09024282a64b24d2b925f9be",
       "version_major": 2,
       "version_minor": 0
      },
      "text/plain": [
       "Dropdown(description='Gender', options=('Male', 'Female', 'Non-Binary'), value='Male')"
      ]
     },
     "metadata": {},
     "output_type": "display_data"
    },
    {
     "data": {
      "application/vnd.jupyter.widget-view+json": {
       "model_id": "3d2345c68af44525a6764ad8ecd8a6b8",
       "version_major": 2,
       "version_minor": 0
      },
      "text/plain": [
       "Dropdown(description='Preferred Gender', options=('Male', 'Female', 'Any'), value='Male')"
      ]
     },
     "metadata": {},
     "output_type": "display_data"
    },
    {
     "data": {
      "application/vnd.jupyter.widget-view+json": {
       "model_id": "1cd130e408ee4bc1b493e8bc5be5eefb",
       "version_major": 2,
       "version_minor": 0
      },
      "text/plain": [
       "Text(value='', description='Location', placeholder='Enter city')"
      ]
     },
     "metadata": {},
     "output_type": "display_data"
    },
    {
     "data": {
      "application/vnd.jupyter.widget-view+json": {
       "model_id": "be8e648f2386402baf5ea7f04b9e352d",
       "version_major": 2,
       "version_minor": 0
      },
      "text/plain": [
       "Text(value='', description='Interests (comma-separated)')"
      ]
     },
     "metadata": {},
     "output_type": "display_data"
    },
    {
     "data": {
      "application/vnd.jupyter.widget-view+json": {
       "model_id": "b319557d7fae4731ba93c13833124995",
       "version_major": 2,
       "version_minor": 0
      },
      "text/plain": [
       "Dropdown(description='Education', options=('High School', 'Bachelor', 'Master', 'PhD'), value='High School')"
      ]
     },
     "metadata": {},
     "output_type": "display_data"
    },
    {
     "data": {
      "application/vnd.jupyter.widget-view+json": {
       "model_id": "9858a406a88e488cb01470cfc87551f1",
       "version_major": 2,
       "version_minor": 0
      },
      "text/plain": [
       "Text(value='', description='Occupation')"
      ]
     },
     "metadata": {},
     "output_type": "display_data"
    },
    {
     "data": {
      "application/vnd.jupyter.widget-view+json": {
       "model_id": "8cb062042e3b4b4aa58e31d670e98be5",
       "version_major": 2,
       "version_minor": 0
      },
      "text/plain": [
       "Dropdown(description='Goals', options=('Casual', 'Long-term', 'Marriage'), value='Casual')"
      ]
     },
     "metadata": {},
     "output_type": "display_data"
    },
    {
     "data": {
      "application/vnd.jupyter.widget-view+json": {
       "model_id": "e8931c1038bd4f18afdc41aa535b29b6",
       "version_major": 2,
       "version_minor": 0
      },
      "text/plain": [
       "Dropdown(description='Lifestyle', options=('Active', 'Non-Smoker', 'Smoker'), value='Active')"
      ]
     },
     "metadata": {},
     "output_type": "display_data"
    },
    {
     "data": {
      "application/vnd.jupyter.widget-view+json": {
       "model_id": "17d57d46a7c94035b3a837bba8101354",
       "version_major": 2,
       "version_minor": 0
      },
      "text/plain": [
       "Textarea(value='', description='bio', placeholder='Enter bio')"
      ]
     },
     "metadata": {},
     "output_type": "display_data"
    },
    {
     "data": {
      "application/vnd.jupyter.widget-view+json": {
       "model_id": "bf49655bb0a5411ba1ab95372dc9bf09",
       "version_major": 2,
       "version_minor": 0
      },
      "text/plain": [
       "Button(description='Find Matches', style=ButtonStyle())"
      ]
     },
     "metadata": {},
     "output_type": "display_data"
    },
    {
     "data": {
      "application/vnd.jupyter.widget-view+json": {
       "model_id": "04c967ae0a194ecabb78f5696e01a7a7",
       "version_major": 2,
       "version_minor": 0
      },
      "text/plain": [
       "Output()"
      ]
     },
     "metadata": {},
     "output_type": "display_data"
    }
   ],
   "source": [
    "import ipywidgets as widgets\n",
    "from IPython.display import display, clear_output\n",
    "\n",
    "class KnowledgeBase:\n",
    "    \"\"\"\n",
    "    Stores and manages user profiles with unique identifiers.\n",
    "    \"\"\"\n",
    "    def __init__(self):\n",
    "        self.profiles = {}\n",
    "        self.next_id = 1\n",
    "\n",
    "    def add_profile(self, profile_data):\n",
    "        profile_id = self.next_id\n",
    "        self.profiles[profile_id] = {'id': profile_id, **profile_data}\n",
    "        self.next_id += 1\n",
    "        return profile_id\n",
    "\n",
    "    def get_profile(self, profile_id):\n",
    "        return self.profiles.get(profile_id)\n",
    "\n",
    "    def get_all_profiles(self):\n",
    "        return list(self.profiles.values())\n",
    "\n",
    "\n",
    "class Matchmaker:\n",
    "    \"\"\"\n",
    "    Implements Tinder-like matchmaking using compatibility rules and weighted attributes.\n",
    "    \"\"\"\n",
    "    def __init__(self, knowledge_base, weights=None, max_age_diff=10):\n",
    "        self.knowledge_base = knowledge_base\n",
    "        self.weights = weights or {\n",
    "            'age': 0.2, 'interests': 0.3, 'location': 0.15,\n",
    "            'education': 0.1, 'occupation': 0.1, 'lifestyle': 0.15\n",
    "        }\n",
    "        self.max_age_diff = max_age_diff\n",
    "\n",
    "    def calculate_compatibility(self, profile_a, profile_b):\n",
    "        if profile_a['preferred_gender'] not in [profile_b['gender'], \"Any\"]:\n",
    "            return 0, []\n",
    "        if profile_b['preferred_gender'] not in [profile_a['gender'], \"Any\"]:\n",
    "            return 0, []\n",
    "\n",
    "        matched = []\n",
    "        age_diff = abs(profile_a['age'] - profile_b['age'])\n",
    "        age_score = max(0, 1 - (age_diff / self.max_age_diff)) * self.weights['age']\n",
    "        if age_score > 0:\n",
    "            matched.append(\"Age\")\n",
    "\n",
    "        interests_a = set(profile_a['interests'])\n",
    "        interests_b = set(profile_b['interests'])\n",
    "        intersection = len(interests_a & interests_b)\n",
    "        union = len(interests_a | interests_b)\n",
    "        jaccard_score = (intersection / union) * self.weights['interests'] if union > 0 else 0\n",
    "        if intersection > 0:\n",
    "            matched.append(f\"Interests: {', '.join(interests_a & interests_b)}\")\n",
    "\n",
    "        location_score = self.weights['location'] if profile_a['location'] == profile_b['location'] else 0\n",
    "        if location_score > 0:\n",
    "            matched.append(\"Location\")\n",
    "\n",
    "        education_score = self.weights['education'] if profile_a['education'] == profile_b['education'] else 0\n",
    "        if education_score > 0:\n",
    "            matched.append(\"Education\")\n",
    "\n",
    "        occupation_score = self.weights['occupation'] if profile_a['occupation'] == profile_b['occupation'] else 0\n",
    "        if occupation_score > 0:\n",
    "            matched.append(\"Occupation\")\n",
    "\n",
    "        lifestyle_score = self.weights['lifestyle'] if profile_a['lifestyle'] == profile_b['lifestyle'] else 0\n",
    "        if lifestyle_score > 0:\n",
    "            matched.append(\"Lifestyle\")\n",
    "\n",
    "        total_score = age_score + jaccard_score + location_score + education_score + occupation_score + lifestyle_score\n",
    "        return total_score, matched\n",
    "\n",
    "    def find_matches(self, user_id, top_n=5):\n",
    "        target_profile = self.knowledge_base.get_profile(user_id)\n",
    "        if not target_profile:\n",
    "            return []\n",
    "\n",
    "        matches = []\n",
    "        for profile in self.knowledge_base.get_all_profiles():\n",
    "            if profile['id'] == user_id:\n",
    "                continue\n",
    "            score, details = self.calculate_compatibility(target_profile, profile)\n",
    "            if score > 0:\n",
    "                matches.append((profile['id'], round(score, 2), details))\n",
    "\n",
    "        matches.sort(key=lambda x: x[1], reverse=True)\n",
    "        return matches[:top_n]\n",
    "\n",
    "\n",
    "kb = KnowledgeBase()\n",
    "sample_profiles = [\n",
    "    {'age': 24, 'gender': 'Male', 'preferred_gender': 'Female', 'location': 'Nairobi',\n",
    "     'interests': ['football', 'hiking', 'coding'], 'education': 'Bachelor', 'occupation': 'Software Developer',\n",
    "     'relationship_goals': 'Long-term', 'lifestyle': 'Non-Smoker'},\n",
    "\n",
    "    {'age': 27, 'gender': 'Female', 'preferred_gender': 'Male', 'location': 'Mombasa',\n",
    "     'interests': ['travel', 'beach walks', 'reading'], 'education': 'Master', 'occupation': 'Lecturer',\n",
    "     'relationship_goals': 'Marriage', 'lifestyle': 'Active'},\n",
    "\n",
    "    {'age': 30, 'gender': 'Male', 'preferred_gender': 'Female', 'location': 'Kisumu',\n",
    "     'interests': ['fishing', 'music', 'cycling'], 'education': 'Bachelor', 'occupation': 'Doctor',\n",
    "     'relationship_goals': 'Marriage', 'lifestyle': 'Active'},\n",
    "\n",
    "    {'age': 22, 'gender': 'Female', 'preferred_gender': 'Male', 'location': 'Eldoret',\n",
    "     'interests': ['marathon running', 'fitness', 'cooking'], 'education': 'Bachelor', 'occupation': 'Athlete',\n",
    "     'relationship_goals': 'Casual', 'lifestyle': 'Active'},\n",
    "\n",
    "    {'age': 35, 'gender': 'Male', 'preferred_gender': 'Female', 'location': 'Nakuru',\n",
    "     'interests': ['farming', 'politics', 'hiking'], 'education': 'PhD', 'occupation': 'Agricultural Economist',\n",
    "     'relationship_goals': 'Long-term', 'lifestyle': 'Non-Smoker'},\n",
    "\n",
    "    {'age': 26, 'gender': 'Female', 'preferred_gender': 'Male', 'location': 'Thika',\n",
    "     'interests': ['business', 'reading', 'coffee dates'], 'education': 'Bachelor', 'occupation': 'Entrepreneur',\n",
    "     'relationship_goals': 'Long-term', 'lifestyle': 'Smoker'},\n",
    "\n",
    "    {'age': 31, 'gender': 'Male', 'preferred_gender': 'Female', 'location': 'Machakos',\n",
    "     'interests': ['hiking', 'biking', 'camping'], 'education': 'Master', 'occupation': 'Civil Engineer',\n",
    "     'relationship_goals': 'Marriage', 'lifestyle': 'Active'},\n",
    "\n",
    "    {'age': 29, 'gender': 'Female', 'preferred_gender': 'Male', 'location': 'Nyeri',\n",
    "     'interests': ['cooking', 'gardening', 'travel'], 'education': 'Bachelor', 'occupation': 'Nurse',\n",
    "     'relationship_goals': 'Marriage', 'lifestyle': 'Non-Smoker'},\n",
    "\n",
    "    {'age': 40, 'gender': 'Male', 'preferred_gender': 'Female', 'location': 'Meru',\n",
    "     'interests': ['farming', 'wildlife conservation', 'hiking'], 'education': 'Bachelor', 'occupation': 'Wildlife Ranger',\n",
    "     'relationship_goals': 'Long-term', 'lifestyle': 'Active'},\n",
    "\n",
    "    {'age': 25, 'gender': 'Female', 'preferred_gender': 'Male', 'location': 'Kakamega',\n",
    "     'interests': ['dance', 'music', 'social work'], 'education': 'Master', 'occupation': 'Social Worker',\n",
    "     'relationship_goals': 'Casual', 'lifestyle': 'Non-Smoker'},\n",
    "]\n",
    "\n",
    "\n",
    "for p in sample_profiles:\n",
    "    kb.add_profile(p)\n",
    "\n",
    "matchmaker = Matchmaker(knowledge_base=kb)\n",
    "\n",
    "age_input = widgets.IntSlider(description=\"Age\", min=18, max=60, value=25)\n",
    "gender_input = widgets.Dropdown(description=\"Gender\", options=['Male', 'Female', 'Non-Binary'])\n",
    "preferred_gender_input = widgets.Dropdown(description=\"Preferred Gender\", options=['Male', 'Female', 'Any'])\n",
    "location_input = widgets.Text(description=\"Location\", placeholder=\"Enter city\")\n",
    "interests_input = widgets.Text(description=\"Interests (comma-separated)\")\n",
    "education_input = widgets.Dropdown(description=\"Education\", options=['High School', 'Bachelor', 'Master', 'PhD'])\n",
    "occupation_input = widgets.Text(description=\"Occupation\")\n",
    "relationship_goals_input = widgets.Dropdown(description=\"Goals\", options=['Casual', 'Long-term', 'Marriage'])\n",
    "lifestyle_input = widgets.Dropdown(description=\"Lifestyle\", options=['Active', 'Non-Smoker', 'Smoker'])\n",
    "submit_button = widgets.Button(description=\"Find Matches\")\n",
    "bio_input = widgets.Textarea(description = \"bio\", placeholder = \"Enter bio\")\n",
    "output_display = widgets.Output()\n",
    "\n",
    "def find_matches(b):\n",
    "    with output_display:\n",
    "        clear_output()\n",
    "        profile = {\n",
    "            'age': age_input.value,\n",
    "            'gender': gender_input.value,\n",
    "            'preferred_gender': preferred_gender_input.value,\n",
    "            'location': location_input.value,\n",
    "            'interests': [i.strip() for i in interests_input.value.split(',') if i.strip()],\n",
    "            'education': education_input.value,\n",
    "            'occupation': occupation_input.value,\n",
    "            'relationship_goals': relationship_goals_input.value,\n",
    "            'lifestyle': lifestyle_input.value,\n",
    "            'bio': bio_input.value\n",
    "        }\n",
    "        user_id = kb.add_profile(profile)\n",
    "        matches = matchmaker.find_matches(user_id, top_n=3)\n",
    "        kb.profiles.pop(user_id)\n",
    "        if not matches:\n",
    "            print(\"No compatible matches found.\")\n",
    "        else:\n",
    "            print(\"Top Matches:\")\n",
    "            for profile_id, score, details in matches:\n",
    "                print(f\"Profile {profile_id} - Compatibility Score: {score}\")\n",
    "                print(f\"Matched Attributes: {', '.join(details)}\")\n",
    "                print(\"-\" * 40)\n",
    "\n",
    "submit_button.on_click(find_matches)\n",
    "display(age_input, gender_input, preferred_gender_input, location_input, interests_input,\n",
    "        education_input, occupation_input, relationship_\n",
    "        \n",
    "# This is just a test comment"
   ]
  }
 ],
 "metadata": {
  "kernelspec": {
   "display_name": "Python 3",
   "language": "python",
   "name": "python3"
  },
  "language_info": {
   "codemirror_mode": {
    "name": "ipython",
    "version": 3
   },
   "file_extension": ".py",
   "mimetype": "text/x-python",
   "name": "python",
   "nbconvert_exporter": "python",
   "pygments_lexer": "ipython3",
   "version": "3.12.6"
  }
 },
 "nbformat": 4,
 "nbformat_minor": 2
}
